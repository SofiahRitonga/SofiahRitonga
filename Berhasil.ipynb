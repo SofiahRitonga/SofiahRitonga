{
  "nbformat": 4,
  "nbformat_minor": 0,
  "metadata": {
    "colab": {
      "provenance": [],
      "authorship_tag": "ABX9TyN7gOl5IssWdf0RAucuVfS/",
      "include_colab_link": true
    },
    "kernelspec": {
      "name": "python3",
      "display_name": "Python 3"
    },
    "language_info": {
      "name": "python"
    }
  },
  "cells": [
    {
      "cell_type": "markdown",
      "metadata": {
        "id": "view-in-github",
        "colab_type": "text"
      },
      "source": [
        "<a href=\"https://colab.research.google.com/github/SofiahRitonga/SofiahRitonga/blob/main/Berhasil.ipynb\" target=\"_parent\"><img src=\"https://colab.research.google.com/assets/colab-badge.svg\" alt=\"Open In Colab\"/></a>"
      ]
    },
    {
      "cell_type": "code",
      "execution_count": null,
      "metadata": {
        "id": "61d78tftqYa6"
      },
      "outputs": [],
      "source": [
        "import pandas as pd\n",
        "dataset = pd.read_csv('sample_data/Data Skripsi Python.csv')"
      ]
    },
    {
      "cell_type": "code",
      "source": [
        "dataset"
      ],
      "metadata": {
        "id": "SBhB-Omvqx9E"
      },
      "execution_count": null,
      "outputs": []
    },
    {
      "cell_type": "code",
      "source": [
        "dataset.isnull().sum()"
      ],
      "metadata": {
        "id": "BVy7sM_jq2My"
      },
      "execution_count": null,
      "outputs": []
    },
    {
      "cell_type": "code",
      "source": [
        "dataset.info()"
      ],
      "metadata": {
        "id": "Ky2dfXOpq3Cc"
      },
      "execution_count": null,
      "outputs": []
    },
    {
      "cell_type": "code",
      "source": [
        "# Mengubah data kategorik ke data numerik\n",
        "data = pd.read_csv ('sample_data/Data Skripsi Python.csv')\n",
        "from sklearn.preprocessing import LabelEncoder\n",
        "enc = LabelEncoder()\n",
        "dataset ['A1'] = enc.fit_transform (dataset['A1'].values)\n",
        "dataset ['A2'] = enc.fit_transform (dataset['A2'].values)\n",
        "dataset ['A3'] = enc.fit_transform (dataset['A3'].values)\n",
        "dataset ['A4'] = enc.fit_transform (dataset['A4'].values)\n",
        "dataset ['A5'] = enc.fit_transform (dataset['A5'].values)\n",
        "dataset ['A6'] = enc.fit_transform (dataset['A6'].values)\n",
        "dataset ['A7'] = enc.fit_transform (dataset['A7'].values)\n",
        "dataset ['A8'] = enc.fit_transform (dataset['A8'].values)\n",
        "dataset ['A9'] = enc.fit_transform (dataset['A9'].values)\n",
        "dataset ['A10'] = enc.fit_transform (dataset['A10'].values)\n",
        "dataset ['A11'] = enc.fit_transform (dataset['A11'].values)\n",
        "dataset ['A12'] = enc.fit_transform (dataset['A12'].values)\n",
        "dataset ['A13'] = enc.fit_transform (dataset['A13'].values)\n",
        "dataset ['A14'] = enc.fit_transform (dataset['A14'].values)\n",
        "dataset ['A15'] = enc.fit_transform (dataset['A15'].values)\n",
        "dataset ['A16'] = enc.fit_transform (dataset['A16'].values)\n",
        "dataset ['A17'] = enc.fit_transform (dataset['A17'].values)\n",
        "dataset ['A18'] = enc.fit_transform (dataset['A18'].values)\n",
        "dataset ['A19'] = enc.fit_transform (dataset['A19'].values)\n",
        "dataset ['A20'] = enc.fit_transform (dataset['A20'].values)"
      ],
      "metadata": {
        "id": "P80k4-1sq674"
      },
      "execution_count": null,
      "outputs": []
    },
    {
      "cell_type": "code",
      "source": [
        "dataset.info()"
      ],
      "metadata": {
        "id": "6UbEBY8Sq8Z_"
      },
      "execution_count": null,
      "outputs": []
    },
    {
      "cell_type": "code",
      "source": [
        "dataset"
      ],
      "metadata": {
        "id": "h1rvMatMrATY"
      },
      "execution_count": null,
      "outputs": []
    },
    {
      "cell_type": "code",
      "source": [
        "x = dataset.iloc[:,:-1].values\n",
        "y = dataset.iloc[:,-1].values"
      ],
      "metadata": {
        "id": "47N99QHWrC5P"
      },
      "execution_count": null,
      "outputs": []
    },
    {
      "cell_type": "code",
      "source": [
        "from sklearn.model_selection import train_test_split\n",
        "x_train, x_test, y_train, y_test = train_test_split(x,y, test_size = 0.20, random_state= 0)"
      ],
      "metadata": {
        "id": "HxUhziqOrHBm"
      },
      "execution_count": null,
      "outputs": []
    },
    {
      "cell_type": "code",
      "source": [
        "from sklearn import tree\n",
        "model = tree.DecisionTreeClassifier(random_state=0, max_depth=None, min_samples_split=2, min_samples_leaf=1, min_weight_fraction_leaf=0, max_leaf_nodes=None, min_impurity_decrease=0)"
      ],
      "metadata": {
        "id": "2cKq3nz_sLbB"
      },
      "execution_count": null,
      "outputs": []
    },
    {
      "cell_type": "code",
      "source": [
        "clf = model.fit(x_train, y_train)"
      ],
      "metadata": {
        "id": "sUdhdotmrdQ7"
      },
      "execution_count": null,
      "outputs": []
    },
    {
      "cell_type": "code",
      "source": [
        "import graphviz\n",
        "dot_data = tree.export_graphviz(clf, out_file = None, feature_names= dataset.columns[:-1], max_depth=4, filled= True, rounded=True,special_characters=True)"
      ],
      "metadata": {
        "id": "3TcqKxXRtI4S"
      },
      "execution_count": null,
      "outputs": []
    },
    {
      "cell_type": "code",
      "source": [
        "graph = graphviz.Source(dot_data)"
      ],
      "metadata": {
        "id": "8Bx2WPbNtphK"
      },
      "execution_count": null,
      "outputs": []
    },
    {
      "cell_type": "code",
      "source": [
        "graph.view()"
      ],
      "metadata": {
        "id": "rTO1tTCotxzI"
      },
      "execution_count": null,
      "outputs": []
    },
    {
      "cell_type": "code",
      "source": [
        "# Validasi dan Pengujian\n",
        "y_pred = clf.predict(x_test)"
      ],
      "metadata": {
        "id": "Do1QwOfOt0iw"
      },
      "execution_count": null,
      "outputs": []
    },
    {
      "cell_type": "code",
      "source": [
        "from sklearn.metrics import classification_report\n",
        "from sklearn.metrics import accuracy_score\n",
        "akurasi = classification_report(y_test, y_pred)\n",
        "print('Akurasi:', akurasi)"
      ],
      "metadata": {
        "id": "XZoRKYICuJEX"
      },
      "execution_count": null,
      "outputs": []
    },
    {
      "cell_type": "code",
      "source": [
        "akurasi = accuracy_score(y_test, y_pred)\n",
        "print('Tingkat akurasi : %d persen'%(akurasi*100))"
      ],
      "metadata": {
        "id": "55PfbUjJuMVQ"
      },
      "execution_count": null,
      "outputs": []
    }
  ]
}