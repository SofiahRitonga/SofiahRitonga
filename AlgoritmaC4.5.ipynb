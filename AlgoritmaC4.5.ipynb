{
  "nbformat": 4,
  "nbformat_minor": 0,
  "metadata": {
    "colab": {
      "provenance": [],
      "authorship_tag": "ABX9TyO9yLYU12Ll9NJKtX+DwD83",
      "include_colab_link": true
    },
    "kernelspec": {
      "name": "python3",
      "display_name": "Python 3"
    },
    "language_info": {
      "name": "python"
    }
  },
  "cells": [
    {
      "cell_type": "markdown",
      "metadata": {
        "id": "view-in-github",
        "colab_type": "text"
      },
      "source": [
        "<a href=\"https://colab.research.google.com/github/SofiahRitonga/SofiahRitonga/blob/main/AlgoritmaC4.5.ipynb\" target=\"_parent\"><img src=\"https://colab.research.google.com/assets/colab-badge.svg\" alt=\"Open In Colab\"/></a>"
      ]
    },
    {
      "cell_type": "code",
      "execution_count": null,
      "metadata": {
        "id": "N15DBIcNYerM"
      },
      "outputs": [],
      "source": [
        "import pandas as pd\n",
        "dataset = pd.read_csv('sample_data/Data Skripsi Python.csv')"
      ]
    },
    {
      "cell_type": "code",
      "source": [
        "dataset"
      ],
      "metadata": {
        "id": "S3A3cRMiZXcp"
      },
      "execution_count": null,
      "outputs": []
    },
    {
      "cell_type": "code",
      "source": [
        "dataset.isnull().sum()"
      ],
      "metadata": {
        "id": "OUSv8JadZdtK"
      },
      "execution_count": null,
      "outputs": []
    },
    {
      "cell_type": "code",
      "source": [
        "dataset.info()"
      ],
      "metadata": {
        "id": "N1kCVWkuZurG"
      },
      "execution_count": null,
      "outputs": []
    },
    {
      "cell_type": "code",
      "source": [
        "# Mengubah data kategorik ke data numerik\n",
        "data = pd.read_csv ('sample_data/Data Skripsi Python.csv')\n",
        "from sklearn.preprocessing import LabelEncoder\n",
        "enc = LabelEncoder()\n",
        "dataset ['A1'] = enc.fit_transform (dataset['A1'].values)\n",
        "dataset ['A2'] = enc.fit_transform (dataset['A2'].values)\n",
        "dataset ['A3'] = enc.fit_transform (dataset['A3'].values)\n",
        "dataset ['A4'] = enc.fit_transform (dataset['A4'].values)\n",
        "dataset ['A5'] = enc.fit_transform (dataset['A5'].values)\n",
        "dataset ['A6'] = enc.fit_transform (dataset['A6'].values)\n",
        "dataset ['A7'] = enc.fit_transform (dataset['A7'].values)\n",
        "dataset ['A8'] = enc.fit_transform (dataset['A8'].values)\n",
        "dataset ['A9'] = enc.fit_transform (dataset['A9'].values)\n",
        "dataset ['A10'] = enc.fit_transform (dataset['A10'].values)\n",
        "dataset ['A11'] = enc.fit_transform (dataset['A11'].values)\n",
        "dataset ['A12'] = enc.fit_transform (dataset['A12'].values)\n",
        "dataset ['A13'] = enc.fit_transform (dataset['A13'].values)\n",
        "dataset ['A14'] = enc.fit_transform (dataset['A14'].values)\n",
        "dataset ['A15'] = enc.fit_transform (dataset['A15'].values)\n",
        "dataset ['A16'] = enc.fit_transform (dataset['A16'].values)\n",
        "dataset ['A17'] = enc.fit_transform (dataset['A17'].values)\n",
        "dataset ['A18'] = enc.fit_transform (dataset['A18'].values)\n",
        "dataset ['A19'] = enc.fit_transform (dataset['A19'].values)\n",
        "dataset ['A20'] = enc.fit_transform (dataset['A20'].values)"
      ],
      "metadata": {
        "id": "kU-kx4hsjQIf"
      },
      "execution_count": null,
      "outputs": []
    },
    {
      "cell_type": "code",
      "source": [
        "dataset.info()"
      ],
      "metadata": {
        "id": "M8BBPt2RdkUc"
      },
      "execution_count": null,
      "outputs": []
    },
    {
      "cell_type": "code",
      "source": [
        "dataset"
      ],
      "metadata": {
        "id": "WK4TCWsSjsQo"
      },
      "execution_count": null,
      "outputs": []
    },
    {
      "cell_type": "code",
      "source": [
        "x = dataset.iloc[:,:-1].values\n",
        "y = dataset.iloc[:,-1].values"
      ],
      "metadata": {
        "id": "dfMc3ZakkJEg"
      },
      "execution_count": null,
      "outputs": []
    },
    {
      "cell_type": "code",
      "source": [
        "from sklearn.model_selection import train_test_split\n",
        "x_train, x_test, y_train, y_test = train_test_split(x,y, test_size = 0.20, random_state= 0)"
      ],
      "metadata": {
        "id": "5-DlaDbYlSHP"
      },
      "execution_count": null,
      "outputs": []
    },
    {
      "cell_type": "code",
      "source": [
        "x"
      ],
      "metadata": {
        "id": "1ymj3k1fl3FT"
      },
      "execution_count": null,
      "outputs": []
    },
    {
      "cell_type": "code",
      "source": [
        "x_train"
      ],
      "metadata": {
        "id": "Xgko7KywmLeQ"
      },
      "execution_count": null,
      "outputs": []
    },
    {
      "cell_type": "code",
      "source": [
        "from sklearn import tree\n",
        "model = tree.DecisionTreeClassifier(random_state=0, max_depth=None, min_samples_split=2, min_samples_leaf=1, min_weight_fraction_leaf=0, max_leaf_nodes=None, min_impurity_decrease=0)"
      ],
      "metadata": {
        "id": "NbujuS64U8eZ"
      },
      "execution_count": null,
      "outputs": []
    },
    {
      "cell_type": "code",
      "source": [
        "clf = model.fit(x_train, y_train)"
      ],
      "metadata": {
        "id": "gQ0A-JpWnUXi"
      },
      "execution_count": null,
      "outputs": []
    },
    {
      "cell_type": "code",
      "source": [
        "dataset.columns[:-1]"
      ],
      "metadata": {
        "id": "rTjF5ovkomGW"
      },
      "execution_count": null,
      "outputs": []
    },
    {
      "cell_type": "code",
      "source": [
        "import graphviz\n",
        "dot_data = tree.export_graphviz(clf, out_file = None, feature_names= dataset.columns[:-1], max_depth=4, filled= True, rounded=True,special_characters=True)"
      ],
      "metadata": {
        "id": "sSDYHHHkWBiE"
      },
      "execution_count": null,
      "outputs": []
    },
    {
      "cell_type": "code",
      "source": [
        "graph = graphviz.Source(dot_data)"
      ],
      "metadata": {
        "id": "2sxHXISccBk6"
      },
      "execution_count": null,
      "outputs": []
    },
    {
      "cell_type": "code",
      "source": [
        "!pip install ipython"
      ],
      "metadata": {
        "id": "k8hiwrnRiWH5"
      },
      "execution_count": null,
      "outputs": []
    },
    {
      "cell_type": "code",
      "source": [
        "# Menampilkan Pohon Keputusan\n",
        "from IPython.display import Image\n",
        "import pydotplus\n",
        "graph = pydotplus.graph_from_dot_data(dot_data)\n",
        "Image(graph.create_png())\n",
        "graph.write_png('Data Skripsi Python.png')"
      ],
      "metadata": {
        "id": "Wt7Wov-bcbv6"
      },
      "execution_count": null,
      "outputs": []
    },
    {
      "cell_type": "code",
      "source": [
        "# Validasi dan Pengujian\n",
        "y_pred = clf.predict(x_test)"
      ],
      "metadata": {
        "id": "lksaLAHucgYN"
      },
      "execution_count": null,
      "outputs": []
    },
    {
      "cell_type": "code",
      "source": [
        "from sklearn.metrics import classification_report\n",
        "akurasi = classification_report(y_test, y_pred)\n",
        "print('Akurasi Algoritma C4.5:', akurasi)"
      ],
      "metadata": {
        "id": "tJVXX83Bdy8c"
      },
      "execution_count": null,
      "outputs": []
    },
    {
      "cell_type": "code",
      "source": [
        "from sklearn.metrics import accuracy_score\n",
        "akurasi = accuracy_score(y_test, y_pred)\n",
        "print('Tingkat akurasi : %d persen'%(akurasi*100))"
      ],
      "metadata": {
        "id": "uCMCFxIXeZs8"
      },
      "execution_count": null,
      "outputs": []
    }
  ]
}